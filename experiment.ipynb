{
 "cells": [
  {
   "cell_type": "code",
   "execution_count": 1,
   "id": "24011ab9",
   "metadata": {},
   "outputs": [
    {
     "name": "stderr",
     "output_type": "stream",
     "text": [
      "/home/yinhr/miniconda3/envs/DL/lib/python3.11/site-packages/tqdm/auto.py:21: TqdmWarning: IProgress not found. Please update jupyter and ipywidgets. See https://ipywidgets.readthedocs.io/en/stable/user_install.html\n",
      "  from .autonotebook import tqdm as notebook_tqdm\n",
      "Using a slow image processor as `use_fast` is unset and a slow processor was saved with this model. `use_fast=True` will be the default behavior in v4.52, even if the model was saved with a slow processor. This will result in minor differences in outputs. You'll still be able to use a slow processor with `use_fast=False`.\n"
     ]
    }
   ],
   "source": [
    "from PIL import Image\n",
    "import requests\n",
    "import os\n",
    "import torch\n",
    "\n",
    "from transformers import CLIPProcessor, CLIPModel\n",
    "\n",
    "device = \"cuda\" if torch.cuda.is_available() else \"cpu\"\n",
    "DATA_PATH = './data/Animals'\n",
    "\n",
    "model = CLIPModel.from_pretrained(\"openai/clip-vit-large-patch14\").to(device)\n",
    "processor = CLIPProcessor.from_pretrained(\"openai/clip-vit-large-patch14\")\n",
    "\n",
    "features = []\n",
    "image_files = [f for f in os.listdir(DATA_PATH) if f.lower().endswith(('.jpg', '.jpeg'))]\n",
    "for filename in image_files:\n",
    "    filepath = os.path.join(DATA_PATH, filename)\n",
    "    image = Image.open(filepath).convert(\"RGB\")\n",
    "    inputs = processor(images=image, return_tensors=\"pt\", padding=True)\n",
    "    with torch.no_grad():\n",
    "        image_features = model.get_image_features(pixel_values=inputs.pixel_values.to(device))\n",
    "\n",
    "    features.append(image_features.cpu())"
   ]
  },
  {
   "cell_type": "code",
   "execution_count": 2,
   "id": "c4567283",
   "metadata": {},
   "outputs": [
    {
     "name": "stdout",
     "output_type": "stream",
     "text": [
      "Cosine Distance between 1 and 2: 0.3358575701713562\n",
      "Cosine Distance between 1 and 3:0.20379269123077393\n",
      "conclusion: image 1 and 3 are more similar\n"
     ]
    },
    {
     "name": "stderr",
     "output_type": "stream",
     "text": [
      "/tmp/ipykernel_15105/2868936892.py:5: DeprecationWarning: __array__ implementation doesn't accept a copy keyword, so passing copy=False failed. __array__ must implement 'dtype' and 'copy' keyword arguments.\n",
      "  feature_img1 = np.array(features[0]).squeeze()\n",
      "/tmp/ipykernel_15105/2868936892.py:6: DeprecationWarning: __array__ implementation doesn't accept a copy keyword, so passing copy=False failed. __array__ must implement 'dtype' and 'copy' keyword arguments.\n",
      "  feature_img2 = np.array(features[1]).squeeze()\n",
      "/tmp/ipykernel_15105/2868936892.py:7: DeprecationWarning: __array__ implementation doesn't accept a copy keyword, so passing copy=False failed. __array__ must implement 'dtype' and 'copy' keyword arguments.\n",
      "  feature_img3 = np.array(features[2]).squeeze()\n"
     ]
    }
   ],
   "source": [
    "import numpy as np\n",
    "from scipy.spatial.distance import cosine\n",
    "\n",
    "\n",
    "feature_img1 = np.array(features[0]).squeeze()\n",
    "feature_img2 = np.array(features[1]).squeeze()\n",
    "feature_img3 = np.array(features[2]).squeeze()\n",
    "\n",
    "distance_1_2 = cosine(feature_img1, feature_img2)\n",
    "distance_1_3 = cosine(feature_img1, feature_img3)\n",
    "\n",
    "print(f\"Cosine Distance between 1 and 2: {distance_1_2}\")\n",
    "print(f\"Cosine Distance between 1 and 3:{distance_1_3}\")\n",
    "\n",
    "\n",
    "if distance_1_2 < distance_1_3:\n",
    "    print(\"conclusion: image 1 and 2 are more similar\")\n",
    "else:\n",
    "    print(\"conclusion: image 1 and 3 are more similar\")"
   ]
  }
 ],
 "metadata": {
  "kernelspec": {
   "display_name": "DL",
   "language": "python",
   "name": "python3"
  },
  "language_info": {
   "codemirror_mode": {
    "name": "ipython",
    "version": 3
   },
   "file_extension": ".py",
   "mimetype": "text/x-python",
   "name": "python",
   "nbconvert_exporter": "python",
   "pygments_lexer": "ipython3",
   "version": "3.12.3"
  }
 },
 "nbformat": 4,
 "nbformat_minor": 5
}
